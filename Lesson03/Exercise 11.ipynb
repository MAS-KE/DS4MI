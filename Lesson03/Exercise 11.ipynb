{
 "cells": [
  {
   "cell_type": "code",
   "execution_count": 25,
   "metadata": {},
   "outputs": [],
   "source": [
    "import math\n",
    "import pandas as pd"
   ]
  },
  {
   "cell_type": "code",
   "execution_count": 26,
   "metadata": {},
   "outputs": [],
   "source": [
    "#设置一个列表为ages，并赋3个数字\n",
    "ages = [40, 40, 30]\n",
    "#设置一个列表为incomes，并赋值3个数字\n",
    "incomes = [40000, 30000, 40000]"
   ]
  },
  {
   "cell_type": "code",
   "execution_count": 27,
   "metadata": {},
   "outputs": [
    {
     "name": "stdout",
     "output_type": "stream",
     "text": [
      "[40, 40, 30]\n",
      "[40000, 30000, 40000]\n"
     ]
    }
   ],
   "source": [
    "print(ages)\n",
    "print(incomes)"
   ]
  },
  {
   "attachments": {},
   "cell_type": "markdown",
   "metadata": {},
   "source": [
    "## 对比上述3个点，age相同，income的距离；和income相同，age的距离。两者数字不在一个维度，于是采用zscore来统一衡量维度"
   ]
  },
  {
   "cell_type": "code",
   "execution_count": 28,
   "metadata": {},
   "outputs": [
    {
     "data": {
      "text/plain": [
       "10000.0"
      ]
     },
     "execution_count": 28,
     "metadata": {},
     "output_type": "execute_result"
    }
   ],
   "source": [
    "#计算第一个和第二个数的欧几里得距离\n",
    "math.sqrt((ages[0] - ages[1])**2 + (incomes[0] - incomes[1])**2)"
   ]
  },
  {
   "cell_type": "code",
   "execution_count": 29,
   "metadata": {},
   "outputs": [
    {
     "data": {
      "text/plain": [
       "10.0"
      ]
     },
     "execution_count": 29,
     "metadata": {},
     "output_type": "execute_result"
    }
   ],
   "source": [
    "#计算第一个和第三个数据的欧氏距离\n",
    "math.sqrt((ages[0] - ages[2])**2 + (incomes[0] - incomes[2])**2)"
   ]
  },
  {
   "cell_type": "code",
   "execution_count": 30,
   "metadata": {},
   "outputs": [
    {
     "name": "stdout",
     "output_type": "stream",
     "text": [
      "[0.0, 0.0, -1.0]\n",
      "[-1.0, -2.0, -1.0]\n"
     ]
    }
   ],
   "source": [
    "#将ages和income转化为一个标准维度\n",
    "#假设平均数是40，标准差是10，计算ages的zscore\n",
    "z_ages = [(age - 40)/10 for age in ages]\n",
    "#假设平均数是50000，标准差是10000，计算income的zscore\n",
    "z_incomes = [(income - 50000)/10000 for income in incomes]\n",
    "print(z_ages)\n",
    "print(z_incomes)"
   ]
  },
  {
   "cell_type": "code",
   "execution_count": 31,
   "metadata": {},
   "outputs": [
    {
     "data": {
      "text/plain": [
       "1.0"
      ]
     },
     "execution_count": 31,
     "metadata": {},
     "output_type": "execute_result"
    }
   ],
   "source": [
    "#计算1、2两点的距离\n",
    "math.sqrt((z_ages[0] - z_ages[1])**2 + (z_incomes[0] - z_incomes[1])**2)"
   ]
  },
  {
   "cell_type": "code",
   "execution_count": 32,
   "metadata": {},
   "outputs": [
    {
     "data": {
      "text/plain": [
       "1.0"
      ]
     },
     "execution_count": 32,
     "metadata": {},
     "output_type": "execute_result"
    }
   ],
   "source": [
    "#计算1，3两点的距离\n",
    "math.sqrt((z_ages[0] - z_ages[2])**2 + (z_incomes[0] - z_incomes[2])**2)"
   ]
  }
 ],
 "metadata": {
  "kernelspec": {
   "display_name": "Python 3",
   "language": "python",
   "name": "python3"
  },
  "language_info": {
   "codemirror_mode": {
    "name": "ipython",
    "version": 3
   },
   "file_extension": ".py",
   "mimetype": "text/x-python",
   "name": "python",
   "nbconvert_exporter": "python",
   "pygments_lexer": "ipython3",
   "version": "3.9.13"
  }
 },
 "nbformat": 4,
 "nbformat_minor": 1
}
